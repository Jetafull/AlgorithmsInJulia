{
 "cells": [
  {
   "cell_type": "markdown",
   "metadata": {},
   "source": [
    "# Gradient Boosting Example"
   ]
  },
  {
   "cell_type": "code",
   "execution_count": 2,
   "metadata": {},
   "outputs": [
    {
     "data": {
      "text/plain": [
       "PyObject <function load_diabetes at 0x7fb2d8a3adc0>"
      ]
     },
     "execution_count": 2,
     "metadata": {},
     "output_type": "execute_result"
    }
   ],
   "source": [
    "using ScikitLearn\n",
    "using ScikitLearn.CrossValidation: train_test_split\n",
    "\n",
    "include(\"/Users/jiangtao.fu/OneDrive/code/julia/algorithms_in_julia/src/boostingtree.jl\")\n",
    "\n",
    "@sk_import datasets: load_diabetes"
   ]
  },
  {
   "cell_type": "markdown",
   "metadata": {},
   "source": [
    "## Gradient Boosting Regression Example"
   ]
  },
  {
   "cell_type": "code",
   "execution_count": 3,
   "metadata": {},
   "outputs": [
    {
     "data": {
      "text/plain": [
       "Dict{Any,Any} with 7 entries:\n",
       "  \"feature_names\"   => [\"age\", \"sex\", \"bmi\", \"bp\", \"s1\", \"s2\", \"s3\", \"s4\", \"s5\"…\n",
       "  \"target_filename\" => \"/Users/jiangtao.fu/.julia/conda/3/lib/python3.8/site-pa…\n",
       "  \"data_filename\"   => \"/Users/jiangtao.fu/.julia/conda/3/lib/python3.8/site-pa…\n",
       "  \"frame\"           => nothing\n",
       "  \"data\"            => [0.0380759 0.0506801 … 0.0199084 -0.0176461; -0.00188202…\n",
       "  \"target\"          => [151.0, 75.0, 141.0, 206.0, 135.0, 97.0, 138.0, 63.0, 11…\n",
       "  \"DESCR\"           => \".. _diabetes_dataset:\\n\\nDiabetes dataset\\n------------…"
      ]
     },
     "execution_count": 3,
     "metadata": {},
     "output_type": "execute_result"
    }
   ],
   "source": [
    "diabetes = load_diabetes()"
   ]
  },
  {
   "cell_type": "code",
   "execution_count": 4,
   "metadata": {},
   "outputs": [
    {
     "data": {
      "text/plain": [
       "([0.0380759064334241 0.0506801187398187 … 0.0199084208763183 -0.0176461251598052; -0.00188201652779104 -0.044641636506989 … -0.0683297436244215 -0.09220404962683; … ; -0.0454724779400257 -0.044641636506989 … 0.0445283740214053 -0.0259303389894746; -0.0454724779400257 -0.044641636506989 … -0.00421985970694603 0.00306440941436832], [151.0, 75.0, 141.0, 206.0, 135.0, 97.0, 138.0, 63.0, 110.0, 310.0  …  173.0, 72.0, 49.0, 64.0, 48.0, 178.0, 104.0, 132.0, 220.0, 57.0])"
      ]
     },
     "execution_count": 4,
     "metadata": {},
     "output_type": "execute_result"
    }
   ],
   "source": [
    "X, y = diabetes[\"data\"], diabetes[\"target\"]"
   ]
  },
  {
   "cell_type": "code",
   "execution_count": 5,
   "metadata": {},
   "outputs": [
    {
     "data": {
      "text/plain": [
       "(442, 10)"
      ]
     },
     "execution_count": 5,
     "metadata": {},
     "output_type": "execute_result"
    }
   ],
   "source": [
    "size(X)"
   ]
  },
  {
   "cell_type": "code",
   "execution_count": 6,
   "metadata": {},
   "outputs": [
    {
     "data": {
      "text/plain": [
       "4-element Array{Array{Float64,N} where N,1}:\n",
       " [0.0671362140415805 0.0506801187398187 … 0.0233748412798208 0.0817644407962278; 0.0562385986885218 0.0506801187398187 … -0.0295276227417736 -0.0590671943081523; … ; 0.0453409833354632 0.0506801187398187 … -0.003303712578677 0.0196328370737072; -0.0636351701951234 -0.044641636506989 … -0.0225121719296605 -0.0590671943081523]\n",
       " [-0.00551455497881059 -0.044641636506989 … 0.0507815133629732 0.0569117993072195; -0.0200447087828888 -0.044641636506989 … -0.0823814832581028 -0.0466408735636482; … ; -0.0382074010379866 -0.044641636506989 … -0.0181182673078967 -0.0176461251598052; -0.034574862586967 0.0506801187398187 … 0.0267142576335128 0.0734802269665584]\n",
       " [172.0, 91.0, 48.0, 116.0, 185.0, 170.0, 129.0, 104.0, 85.0, 97.0  …  209.0, 67.0, 71.0, 187.0, 272.0, 220.0, 166.0, 85.0, 237.0, 214.0]\n",
       " [272.0, 90.0, 86.0, 232.0, 281.0, 88.0, 235.0, 151.0, 152.0, 98.0  …  161.0, 178.0, 154.0, 144.0, 179.0, 53.0, 140.0, 182.0, 97.0, 292.0]"
      ]
     },
     "execution_count": 6,
     "metadata": {},
     "output_type": "execute_result"
    }
   ],
   "source": [
    "X_train, X_test, y_train, y_test = train_test_split(X, y, test_size=0.1, random_state=13)"
   ]
  },
  {
   "cell_type": "code",
   "execution_count": 7,
   "metadata": {},
   "outputs": [
    {
     "data": {
      "text/plain": [
       "MeanSquaredError()"
      ]
     },
     "execution_count": 7,
     "metadata": {},
     "output_type": "execute_result"
    }
   ],
   "source": [
    "# metric\n",
    "mse = MeanSquaredError()"
   ]
  },
  {
   "cell_type": "markdown",
   "metadata": {},
   "source": [
    "Single regression tree as baseline"
   ]
  },
  {
   "cell_type": "code",
   "execution_count": 8,
   "metadata": {},
   "outputs": [
    {
     "name": "stdout",
     "output_type": "stream",
     "text": [
      "(\"new minimal: \", t, n, currenterror) = (\"new minimal: \", 1, 2, 4085.026526389429)\n",
      "(\"new minimal: \", t, n, currenterror) = (\"new minimal: \", 3, 4, 3972.9084861160845)\n",
      "(\"new minimal: \", t, n, currenterror) = (\"new minimal: \", 1, 6, 3809.7870322885387)\n"
     ]
    }
   ],
   "source": [
    "minerror = Inf\n",
    "for n = 2:2:20, t=1:4\n",
    "    regtree = RegressionTree(X_train, y_train, TreeStoppingRule(n, t));\n",
    "    currenterror = mse(y_test, predict(regtree, X_test))\n",
    "    if minerror > currenterror\n",
    "        minerror = currenterror\n",
    "        @show \"new minimal: \", t, n,  currenterror\n",
    "    end\n",
    "end"
   ]
  },
  {
   "cell_type": "markdown",
   "metadata": {},
   "source": [
    "Boosting model"
   ]
  },
  {
   "cell_type": "code",
   "execution_count": 9,
   "metadata": {
    "scrolled": true
   },
   "outputs": [
    {
     "name": "stdout",
     "output_type": "stream",
     "text": [
      "(n, t, m, currenterror) = (2, 1, 1, 5109.637931635549)\n",
      "(\"new minimal: \", n, t, m, currenterror) = (\"new minimal: \", 2, 1, 1, 5109.637931635549)\n",
      "(n, t, m, currenterror) = (2, 2, 1, 5109.637931635549)\n",
      "(n, t, m, currenterror) = (2, 4, 1, 5109.637931635549)\n",
      "(n, t, m, currenterror) = (2, 1, 4, 4552.85065120202)\n",
      "(\"new minimal: \", n, t, m, currenterror) = (\"new minimal: \", 2, 1, 4, 4552.85065120202)\n",
      "(n, t, m, currenterror) = (2, 2, 4, 4552.85065120202)\n",
      "(n, t, m, currenterror) = (2, 4, 4, 4552.85065120202)\n",
      "(n, t, m, currenterror) = (2, 1, 7, 4123.988887603011)\n",
      "(\"new minimal: \", n, t, m, currenterror) = (\"new minimal: \", 2, 1, 7, 4123.988887603011)\n",
      "(n, t, m, currenterror) = (2, 2, 7, 4123.988887603011)\n",
      "(n, t, m, currenterror) = (2, 4, 7, 4123.988887603011)\n",
      "(n, t, m, currenterror) = (2, 1, 10, 3914.3301493486106)\n",
      "(\"new minimal: \", n, t, m, currenterror) = (\"new minimal: \", 2, 1, 10, 3914.3301493486106)\n",
      "(n, t, m, currenterror) = (2, 2, 10, 3914.3301493486106)\n",
      "(n, t, m, currenterror) = (2, 4, 10, 3914.3301493486106)\n",
      "(n, t, m, currenterror) = (2, 1, 13, 3666.9184127062663)\n",
      "(\"new minimal: \", n, t, m, currenterror) = (\"new minimal: \", 2, 1, 13, 3666.9184127062663)\n",
      "(n, t, m, currenterror) = (2, 2, 13, 3666.9184127062663)\n",
      "(n, t, m, currenterror) = (2, 4, 13, 3666.9184127062663)\n",
      "(n, t, m, currenterror) = (2, 1, 16, 3552.0828066980716)\n",
      "(\"new minimal: \", n, t, m, currenterror) = (\"new minimal: \", 2, 1, 16, 3552.0828066980716)\n",
      "(n, t, m, currenterror) = (2, 2, 16, 3552.0828066980716)\n",
      "(n, t, m, currenterror) = (2, 4, 16, 3552.0828066980716)\n",
      "(n, t, m, currenterror) = (2, 1, 19, 3430.2960172059556)\n",
      "(\"new minimal: \", n, t, m, currenterror) = (\"new minimal: \", 2, 1, 19, 3430.2960172059556)\n",
      "(n, t, m, currenterror) = (2, 2, 19, 3430.2960172059556)\n",
      "(n, t, m, currenterror) = (2, 4, 19, 3430.2960172059556)\n",
      "(n, t, m, currenterror) = (2, 1, 22, 3430.6852911606943)\n",
      "(n, t, m, currenterror) = (2, 2, 22, 3430.6852911606943)\n",
      "(n, t, m, currenterror) = (2, 4, 22, 3430.6852911606943)\n",
      "(n, t, m, currenterror) = (2, 1, 25, 3349.745926513576)\n",
      "(\"new minimal: \", n, t, m, currenterror) = (\"new minimal: \", 2, 1, 25, 3349.745926513576)\n",
      "(n, t, m, currenterror) = (2, 2, 25, 3349.745926513576)\n",
      "(n, t, m, currenterror) = (2, 4, 25, 3349.745926513576)\n",
      "(n, t, m, currenterror) = (2, 1, 28, 3301.8329923896804)\n",
      "(\"new minimal: \", n, t, m, currenterror) = (\"new minimal: \", 2, 1, 28, 3301.8329923896804)\n",
      "(n, t, m, currenterror) = (2, 2, 28, 3301.8329923896804)\n",
      "(n, t, m, currenterror) = (2, 4, 28, 3301.8329923896804)\n",
      "(n, t, m, currenterror) = (2, 1, 31, 3325.8818035232957)\n",
      "(n, t, m, currenterror) = (2, 2, 31, 3325.8818035232957)\n",
      "(n, t, m, currenterror) = (2, 4, 31, 3325.8818035232957)\n",
      "(n, t, m, currenterror) = (2, 1, 34, 3296.0725465220567)\n",
      "(\"new minimal: \", n, t, m, currenterror) = (\"new minimal: \", 2, 1, 34, 3296.0725465220567)\n",
      "(n, t, m, currenterror) = (2, 2, 34, 3296.0725465220567)\n",
      "(n, t, m, currenterror) = (2, 4, 34, 3296.0725465220567)\n",
      "(n, t, m, currenterror) = (2, 1, 37, 3243.775659743509)\n",
      "(\"new minimal: \", n, t, m, currenterror) = (\"new minimal: \", 2, 1, 37, 3243.775659743509)\n",
      "(n, t, m, currenterror) = (2, 2, 37, 3243.775659743509)\n",
      "(n, t, m, currenterror) = (2, 4, 37, 3243.775659743509)\n",
      "(n, t, m, currenterror) = (2, 1, 40, 3239.4235781170555)\n",
      "(\"new minimal: \", n, t, m, currenterror) = (\"new minimal: \", 2, 1, 40, 3239.4235781170555)\n",
      "(n, t, m, currenterror) = (2, 2, 40, 3239.4235781170555)\n",
      "(n, t, m, currenterror) = (2, 4, 40, 3239.4235781170555)\n",
      "(n, t, m, currenterror) = (2, 1, 43, 3265.251266410204)\n",
      "(n, t, m, currenterror) = (2, 2, 43, 3265.251266410204)\n",
      "(n, t, m, currenterror) = (2, 4, 43, 3265.251266410204)\n",
      "(n, t, m, currenterror) = (2, 1, 46, 3240.5178074790933)\n",
      "(n, t, m, currenterror) = (2, 2, 46, 3240.5178074790933)\n",
      "(n, t, m, currenterror) = (2, 4, 46, 3240.5178074790933)\n",
      "(n, t, m, currenterror) = (2, 1, 49, 3259.375589918759)\n",
      "(n, t, m, currenterror) = (2, 2, 49, 3259.375589918759)\n",
      "(n, t, m, currenterror) = (2, 4, 49, 3259.375589918759)\n",
      "(n, t, m, currenterror) = (3, 1, 1, 5024.598020073334)\n",
      "(n, t, m, currenterror) = (3, 2, 1, 5024.598020073334)\n",
      "(n, t, m, currenterror) = (3, 4, 1, 5024.598020073334)\n",
      "(n, t, m, currenterror) = (3, 1, 4, 4261.9955703958985)\n",
      "(n, t, m, currenterror) = (3, 2, 4, 4261.9955703958985)\n",
      "(n, t, m, currenterror) = (3, 4, 4, 4261.9955703958985)\n",
      "(n, t, m, currenterror) = (3, 1, 7, 3894.258253963116)\n",
      "(n, t, m, currenterror) = (3, 2, 7, 3894.258253963116)\n",
      "(n, t, m, currenterror) = (3, 4, 7, 3894.258253963116)\n",
      "(n, t, m, currenterror) = (3, 1, 10, 3502.2469976300763)\n",
      "(n, t, m, currenterror) = (3, 2, 10, 3502.2469976300763)\n",
      "(n, t, m, currenterror) = (3, 4, 10, 3502.2469976300763)\n",
      "(n, t, m, currenterror) = (3, 1, 13, 3294.473165099641)\n",
      "(n, t, m, currenterror) = (3, 2, 13, 3294.473165099641)\n",
      "(n, t, m, currenterror) = (3, 4, 13, 3294.473165099641)\n",
      "(n, t, m, currenterror) = (3, 1, 16, 3203.968035963078)\n",
      "(\"new minimal: \", n, t, m, currenterror) = (\"new minimal: \", 3, 1, 16, 3203.968035963078)\n",
      "(n, t, m, currenterror) = (3, 2, 16, 3203.968035963078)\n",
      "(n, t, m, currenterror) = (3, 4, 16, 3203.968035963078)\n",
      "(n, t, m, currenterror) = (3, 1, 19, 3220.498669526217)\n",
      "(n, t, m, currenterror) = (3, 2, 19, 3220.498669526217)\n",
      "(n, t, m, currenterror) = (3, 4, 19, 3220.498669526217)\n",
      "(n, t, m, currenterror) = (3, 1, 22, 3154.261576452164)\n",
      "(\"new minimal: \", n, t, m, currenterror) = (\"new minimal: \", 3, 1, 22, 3154.261576452164)\n",
      "(n, t, m, currenterror) = (3, 2, 22, 3154.261576452164)\n",
      "(n, t, m, currenterror) = (3, 4, 22, 3153.900844570432)\n",
      "(\"new minimal: \", n, t, m, currenterror) = (\"new minimal: \", 3, 4, 22, 3153.900844570432)\n",
      "(n, t, m, currenterror) = (3, 1, 25, 3192.1745251232705)\n",
      "(n, t, m, currenterror) = (3, 2, 25, 3192.1745251232705)\n",
      "(n, t, m, currenterror) = (3, 4, 25, 3192.289859434458)\n",
      "(n, t, m, currenterror) = (3, 1, 28, 3159.3270643705314)\n",
      "(n, t, m, currenterror) = (3, 2, 28, 3159.3270643705314)\n",
      "(n, t, m, currenterror) = (3, 4, 28, 3181.6659820656323)\n",
      "(n, t, m, currenterror) = (3, 1, 31, 3165.664987346628)\n",
      "(n, t, m, currenterror) = (3, 2, 31, 3165.664987346628)\n",
      "(n, t, m, currenterror) = (3, 4, 31, 3181.672442945457)\n",
      "(n, t, m, currenterror) = (3, 1, 34, 3165.664987346628)\n",
      "(n, t, m, currenterror) = (3, 2, 34, 3165.664987346628)\n",
      "(n, t, m, currenterror) = (3, 4, 34, 3181.672442945457)\n",
      "(n, t, m, currenterror) = (3, 1, 37, 3165.664987346628)\n",
      "(n, t, m, currenterror) = (3, 2, 37, 3165.664987346628)\n",
      "(n, t, m, currenterror) = (3, 4, 37, 3181.672442945457)\n",
      "(n, t, m, currenterror) = (3, 1, 40, 3165.664987346628)\n",
      "(n, t, m, currenterror) = (3, 2, 40, 3165.664987346628)\n",
      "(n, t, m, currenterror) = (3, 4, 40, 3181.672442945457)\n",
      "(n, t, m, currenterror) = (3, 1, 43, 3165.664987346628)\n",
      "(n, t, m, currenterror) = (3, 2, 43, 3165.664987346628)\n",
      "(n, t, m, currenterror) = (3, 4, 43, 3181.672442945457)\n",
      "(n, t, m, currenterror) = (3, 1, 46, 3165.664987346628)\n",
      "(n, t, m, currenterror) = (3, 2, 46, 3165.664987346628)\n",
      "(n, t, m, currenterror) = (3, 4, 46, 3181.672442945457)\n",
      "(n, t, m, currenterror) = (3, 1, 49, 3165.664987346628)\n",
      "(n, t, m, currenterror) = (3, 2, 49, 3165.664987346628)\n",
      "(n, t, m, currenterror) = (3, 4, 49, 3181.672442945457)\n",
      "(n, t, m, currenterror) = (4, 1, 1, 4983.709120943566)\n",
      "(n, t, m, currenterror) = (4, 2, 1, 4983.709120943566)\n",
      "(n, t, m, currenterror) = (4, 4, 1, 4962.631451402796)\n",
      "(n, t, m, currenterror) = (4, 1, 4, 4135.564999334381)\n",
      "(n, t, m, currenterror) = (4, 2, 4, 4135.564999334381)\n",
      "(n, t, m, currenterror) = (4, 4, 4, 4108.97218722233)\n",
      "(n, t, m, currenterror) = (4, 1, 7, 3640.484121439939)\n",
      "(n, t, m, currenterror) = (4, 2, 7, 3673.732654537593)\n",
      "(n, t, m, currenterror) = (4, 4, 7, 3651.9261286664637)\n",
      "(n, t, m, currenterror) = (4, 1, 10, 3401.831762502605)\n",
      "(n, t, m, currenterror) = (4, 2, 10, 3453.997554243567)\n",
      "(n, t, m, currenterror) = (4, 4, 10, 3336.2601050000753)\n",
      "(n, t, m, currenterror) = (4, 1, 13, 3269.733933360517)\n",
      "(n, t, m, currenterror) = (4, 2, 13, 3323.2209097556965)\n",
      "(n, t, m, currenterror) = (4, 4, 13, 3198.18923725357)\n",
      "(n, t, m, currenterror) = (4, 1, 16, 3203.8146864455807)\n",
      "(n, t, m, currenterror) = (4, 2, 16, 3247.73060060076)\n",
      "(n, t, m, currenterror) = (4, 4, 16, 3148.986581491308)\n",
      "(\"new minimal: \", n, t, m, currenterror) = (\"new minimal: \", 4, 4, 16, 3148.986581491308)\n",
      "(n, t, m, currenterror) = (4, 1, 19, 3231.934688131579)\n"
     ]
    },
    {
     "name": "stdout",
     "output_type": "stream",
     "text": [
      "(n, t, m, currenterror) = (4, 2, 19, 3223.5674257777064)\n",
      "(n, t, m, currenterror) = (4, 4, 19, 3162.10769222611)\n",
      "(n, t, m, currenterror) = (4, 1, 22, 3228.5259087451554)\n",
      "(n, t, m, currenterror) = (4, 2, 22, 3279.495361612583)\n",
      "(n, t, m, currenterror) = (4, 4, 22, 3165.4427970422885)\n",
      "(n, t, m, currenterror) = (4, 1, 25, 3267.696270150221)\n",
      "(n, t, m, currenterror) = (4, 2, 25, 3238.4692000948326)\n",
      "(n, t, m, currenterror) = (4, 4, 25, 3210.6011549105624)\n",
      "(n, t, m, currenterror) = (4, 1, 28, 3257.2797595784264)\n",
      "(n, t, m, currenterror) = (4, 2, 28, 3222.852800649885)\n",
      "(n, t, m, currenterror) = (4, 4, 28, 3239.626042870638)\n",
      "(n, t, m, currenterror) = (4, 1, 31, 3266.633414489298)\n",
      "(n, t, m, currenterror) = (4, 2, 31, 3222.852800649885)\n",
      "(n, t, m, currenterror) = (4, 4, 31, 3249.752798965787)\n",
      "(n, t, m, currenterror) = (4, 1, 34, 3266.633414489298)\n",
      "(n, t, m, currenterror) = (4, 2, 34, 3222.852800649885)\n",
      "(n, t, m, currenterror) = (4, 4, 34, 3266.1076709713425)\n",
      "(n, t, m, currenterror) = (4, 1, 37, 3266.633414489298)\n",
      "(n, t, m, currenterror) = (4, 2, 37, 3222.852800649885)\n",
      "(n, t, m, currenterror) = (4, 4, 37, 3264.8168310707088)\n",
      "(n, t, m, currenterror) = (4, 1, 40, 3266.633414489298)\n",
      "(n, t, m, currenterror) = (4, 2, 40, 3222.852800649885)\n",
      "(n, t, m, currenterror) = (4, 4, 40, 3264.8168310707088)\n",
      "(n, t, m, currenterror) = (4, 1, 43, 3266.633414489298)\n",
      "(n, t, m, currenterror) = (4, 2, 43, 3222.852800649885)\n",
      "(n, t, m, currenterror) = (4, 4, 43, 3264.8168310707088)\n",
      "(n, t, m, currenterror) = (4, 1, 46, 3266.633414489298)\n",
      "(n, t, m, currenterror) = (4, 2, 46, 3222.852800649885)\n",
      "(n, t, m, currenterror) = (4, 4, 46, 3264.8168310707088)\n",
      "(n, t, m, currenterror) = (4, 1, 49, 3266.633414489298)\n",
      "(n, t, m, currenterror) = (4, 2, 49, 3222.852800649885)\n",
      "(n, t, m, currenterror) = (4, 4, 49, 3264.8168310707088)\n",
      "(n, t, m, currenterror) = (5, 1, 1, 4888.7809033241565)\n",
      "(n, t, m, currenterror) = (5, 2, 1, 4888.7809033241565)\n",
      "(n, t, m, currenterror) = (5, 4, 1, 4872.375228398962)\n",
      "(n, t, m, currenterror) = (5, 1, 4, 4015.798592038619)\n",
      "(n, t, m, currenterror) = (5, 2, 4, 4042.5286260601224)\n",
      "(n, t, m, currenterror) = (5, 4, 4, 4031.474461112623)\n",
      "(n, t, m, currenterror) = (5, 1, 7, 3662.5438435878923)\n",
      "(n, t, m, currenterror) = (5, 2, 7, 3713.233761650438)\n",
      "(n, t, m, currenterror) = (5, 4, 7, 3660.243959334719)\n",
      "(n, t, m, currenterror) = (5, 1, 10, 3319.216166430151)\n",
      "(n, t, m, currenterror) = (5, 2, 10, 3398.3636695721816)\n",
      "(n, t, m, currenterror) = (5, 4, 10, 3387.3251550895875)\n",
      "(n, t, m, currenterror) = (5, 1, 13, 3215.0415737360418)\n",
      "(n, t, m, currenterror) = (5, 2, 13, 3313.7434817710277)\n",
      "(n, t, m, currenterror) = (5, 4, 13, 3291.587540937576)\n",
      "(n, t, m, currenterror) = (5, 1, 16, 3224.8323366755585)\n",
      "(n, t, m, currenterror) = (5, 2, 16, 3298.587854164587)\n",
      "(n, t, m, currenterror) = (5, 4, 16, 3240.1401014225376)\n",
      "(n, t, m, currenterror) = (5, 1, 19, 3184.2954276249543)\n",
      "(n, t, m, currenterror) = (5, 2, 19, 3304.23365974838)\n",
      "(n, t, m, currenterror) = (5, 4, 19, 3245.142863637377)\n",
      "(n, t, m, currenterror) = (5, 1, 22, 3191.9263606781233)\n",
      "(n, t, m, currenterror) = (5, 2, 22, 3271.8147816726455)\n",
      "(n, t, m, currenterror) = (5, 4, 22, 3276.171446792965)\n",
      "(n, t, m, currenterror) = (5, 1, 25, 3263.8819061019376)\n",
      "(n, t, m, currenterror) = (5, 2, 25, 3248.8526343524263)\n",
      "(n, t, m, currenterror) = (5, 4, 25, 3327.258874476645)\n",
      "(n, t, m, currenterror) = (5, 1, 28, 3246.6072024801356)\n",
      "(n, t, m, currenterror) = (5, 2, 28, 3241.575452230788)\n",
      "(n, t, m, currenterror) = (5, 4, 28, 3341.715744524673)\n",
      "(n, t, m, currenterror) = (5, 1, 31, 3231.8788640329794)\n",
      "(n, t, m, currenterror) = (5, 2, 31, 3213.8058664037962)\n",
      "(n, t, m, currenterror) = (5, 4, 31, 3341.069207570833)\n",
      "(n, t, m, currenterror) = (5, 1, 34, 3222.0062765128514)\n",
      "(n, t, m, currenterror) = (5, 2, 34, 3213.8058664037962)\n",
      "(n, t, m, currenterror) = (5, 4, 34, 3356.596320132521)\n",
      "(n, t, m, currenterror) = (5, 1, 37, 3218.6139510923804)\n",
      "(n, t, m, currenterror) = (5, 2, 37, 3213.8058664037962)\n",
      "(n, t, m, currenterror) = (5, 4, 37, 3387.38754706071)\n",
      "(n, t, m, currenterror) = (5, 1, 40, 3258.189647500678)\n",
      "(n, t, m, currenterror) = (5, 2, 40, 3213.8058664037962)\n",
      "(n, t, m, currenterror) = (5, 4, 40, 3438.0506494828487)\n",
      "(n, t, m, currenterror) = (5, 1, 43, 3270.3924038156188)\n",
      "(n, t, m, currenterror) = (5, 2, 43, 3213.8058664037962)\n",
      "(n, t, m, currenterror) = (5, 4, 43, 3487.7696422094086)\n",
      "(n, t, m, currenterror) = (5, 1, 46, 3273.1017375634524)\n",
      "(n, t, m, currenterror) = (5, 2, 46, 3213.8058664037962)\n",
      "(n, t, m, currenterror) = (5, 4, 46, 3520.8782282866273)\n",
      "(n, t, m, currenterror) = (5, 1, 49, 3275.1241246474874)\n",
      "(n, t, m, currenterror) = (5, 2, 49, 3213.8058664037962)\n",
      "(n, t, m, currenterror) = (5, 4, 49, 3539.4807352399816)\n"
     ]
    }
   ],
   "source": [
    "minerror = Inf\n",
    "for  n=2:5, m = 1:3:50, t=[1,2,4]\n",
    "    regboost = GradientBoostingTrees(X_train, y_train, MeanSquaredError(), BoostingStoppingRule(m, TreeStoppingRule(n, t)))\n",
    "    currenterror = mse(y_test, predict(regboost, X_test))\n",
    "    @show n, t, m,  currenterror\n",
    "    if minerror > currenterror\n",
    "        minerror = currenterror\n",
    "        @show \"new minimal: \", n, t, m,  currenterror\n",
    "    end\n",
    "end"
   ]
  }
 ],
 "metadata": {
  "kernelspec": {
   "display_name": "Julia 1.5.4",
   "language": "julia",
   "name": "julia-1.5"
  },
  "language_info": {
   "file_extension": ".jl",
   "mimetype": "application/julia",
   "name": "julia",
   "version": "1.5.4"
  }
 },
 "nbformat": 4,
 "nbformat_minor": 4
}
